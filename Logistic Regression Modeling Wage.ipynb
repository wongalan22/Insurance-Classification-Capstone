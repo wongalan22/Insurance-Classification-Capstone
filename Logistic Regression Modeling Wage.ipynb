{
 "cells": [
  {
   "cell_type": "code",
   "execution_count": 11,
   "id": "c970401e",
   "metadata": {},
   "outputs": [
    {
     "data": {
      "text/html": [
       "<div>\n",
       "<style scoped>\n",
       "    .dataframe tbody tr th:only-of-type {\n",
       "        vertical-align: middle;\n",
       "    }\n",
       "\n",
       "    .dataframe tbody tr th {\n",
       "        vertical-align: top;\n",
       "    }\n",
       "\n",
       "    .dataframe thead th {\n",
       "        text-align: right;\n",
       "    }\n",
       "</style>\n",
       "<table border=\"1\" class=\"dataframe\">\n",
       "  <thead>\n",
       "    <tr style=\"text-align: right;\">\n",
       "      <th></th>\n",
       "      <th>health_ins</th>\n",
       "      <th>wage</th>\n",
       "    </tr>\n",
       "  </thead>\n",
       "  <tbody>\n",
       "    <tr>\n",
       "      <th>0</th>\n",
       "      <td>N</td>\n",
       "      <td>75.043</td>\n",
       "    </tr>\n",
       "    <tr>\n",
       "      <th>1</th>\n",
       "      <td>N</td>\n",
       "      <td>70.476</td>\n",
       "    </tr>\n",
       "    <tr>\n",
       "      <th>2</th>\n",
       "      <td>Y</td>\n",
       "      <td>130.982</td>\n",
       "    </tr>\n",
       "    <tr>\n",
       "      <th>3</th>\n",
       "      <td>Y</td>\n",
       "      <td>154.685</td>\n",
       "    </tr>\n",
       "    <tr>\n",
       "      <th>4</th>\n",
       "      <td>Y</td>\n",
       "      <td>75.043</td>\n",
       "    </tr>\n",
       "  </tbody>\n",
       "</table>\n",
       "</div>"
      ],
      "text/plain": [
       "  health_ins     wage\n",
       "0          N   75.043\n",
       "1          N   70.476\n",
       "2          Y  130.982\n",
       "3          Y  154.685\n",
       "4          Y   75.043"
      ]
     },
     "execution_count": 11,
     "metadata": {},
     "output_type": "execute_result"
    }
   ],
   "source": [
    "import pandas as pd\n",
    "import numpy as np\n",
    "import seaborn as sns\n",
    "import matplotlib.pyplot as plt\n",
    "import math\n",
    "import statsmodels.formula.api as smf\n",
    "data = pd.read_csv(\"Wage.csv\")\n",
    "data.drop(['age','sex', 'region', 'year','logwage','maritl','race','education','jobclass','health'], axis='columns', inplace=True)\n",
    "data.head()"
   ]
  },
  {
   "cell_type": "code",
   "execution_count": 12,
   "id": "d387d15a",
   "metadata": {},
   "outputs": [],
   "source": [
    "rep = data.replace('N',0)\n",
    "log = rep.replace('Y',1)"
   ]
  },
  {
   "cell_type": "code",
   "execution_count": 13,
   "id": "83a4dfa3",
   "metadata": {
    "scrolled": true
   },
   "outputs": [],
   "source": [
    "log.wage = np.log(log.wage)"
   ]
  },
  {
   "cell_type": "markdown",
   "id": "ab780790",
   "metadata": {},
   "source": [
    "## Before Log Wage"
   ]
  },
  {
   "cell_type": "code",
   "execution_count": 14,
   "id": "958cb559",
   "metadata": {},
   "outputs": [
    {
     "name": "stdout",
     "output_type": "stream",
     "text": [
      "Optimization terminated successfully.\n",
      "         Current function value: 0.540041\n",
      "         Iterations 6\n"
     ]
    },
    {
     "data": {
      "text/html": [
       "<table class=\"simpletable\">\n",
       "<caption>Logit Regression Results</caption>\n",
       "<tr>\n",
       "  <th>Dep. Variable:</th>      <td>health_ins</td>    <th>  No. Observations:  </th>   <td>  3000</td>  \n",
       "</tr>\n",
       "<tr>\n",
       "  <th>Model:</th>                 <td>Logit</td>      <th>  Df Residuals:      </th>   <td>  2998</td>  \n",
       "</tr>\n",
       "<tr>\n",
       "  <th>Method:</th>                 <td>MLE</td>       <th>  Df Model:          </th>   <td>     1</td>  \n",
       "</tr>\n",
       "<tr>\n",
       "  <th>Date:</th>            <td>Mon, 16 May 2022</td> <th>  Pseudo R-squ.:     </th>   <td>0.1227</td>  \n",
       "</tr>\n",
       "<tr>\n",
       "  <th>Time:</th>                <td>23:44:54</td>     <th>  Log-Likelihood:    </th>  <td> -1620.1</td> \n",
       "</tr>\n",
       "<tr>\n",
       "  <th>converged:</th>             <td>True</td>       <th>  LL-Null:           </th>  <td> -1846.8</td> \n",
       "</tr>\n",
       "<tr>\n",
       "  <th>Covariance Type:</th>     <td>nonrobust</td>    <th>  LLR p-value:       </th> <td>1.386e-100</td>\n",
       "</tr>\n",
       "</table>\n",
       "<table class=\"simpletable\">\n",
       "<tr>\n",
       "      <td></td>         <th>coef</th>     <th>std err</th>      <th>z</th>      <th>P>|z|</th>  <th>[0.025</th>    <th>0.975]</th>  \n",
       "</tr>\n",
       "<tr>\n",
       "  <th>Intercept</th> <td>  -12.1661</td> <td>    0.701</td> <td>  -17.347</td> <td> 0.000</td> <td>  -13.541</td> <td>  -10.791</td>\n",
       "</tr>\n",
       "<tr>\n",
       "  <th>wage</th>      <td>    2.8217</td> <td>    0.153</td> <td>   18.413</td> <td> 0.000</td> <td>    2.521</td> <td>    3.122</td>\n",
       "</tr>\n",
       "</table>"
      ],
      "text/plain": [
       "<class 'statsmodels.iolib.summary.Summary'>\n",
       "\"\"\"\n",
       "                           Logit Regression Results                           \n",
       "==============================================================================\n",
       "Dep. Variable:             health_ins   No. Observations:                 3000\n",
       "Model:                          Logit   Df Residuals:                     2998\n",
       "Method:                           MLE   Df Model:                            1\n",
       "Date:                Mon, 16 May 2022   Pseudo R-squ.:                  0.1227\n",
       "Time:                        23:44:54   Log-Likelihood:                -1620.1\n",
       "converged:                       True   LL-Null:                       -1846.8\n",
       "Covariance Type:            nonrobust   LLR p-value:                1.386e-100\n",
       "==============================================================================\n",
       "                 coef    std err          z      P>|z|      [0.025      0.975]\n",
       "------------------------------------------------------------------------------\n",
       "Intercept    -12.1661      0.701    -17.347      0.000     -13.541     -10.791\n",
       "wage           2.8217      0.153     18.413      0.000       2.521       3.122\n",
       "==============================================================================\n",
       "\"\"\""
      ]
     },
     "execution_count": 14,
     "metadata": {},
     "output_type": "execute_result"
    }
   ],
   "source": [
    "model = smf.logit(\"health_ins ~ wage\", data=log)\n",
    "results = model.fit()\n",
    "results.summary()"
   ]
  },
  {
   "cell_type": "code",
   "execution_count": 15,
   "id": "9b1c5e89",
   "metadata": {
    "scrolled": false
   },
   "outputs": [
    {
     "data": {
      "text/html": [
       "<div>\n",
       "<style scoped>\n",
       "    .dataframe tbody tr th:only-of-type {\n",
       "        vertical-align: middle;\n",
       "    }\n",
       "\n",
       "    .dataframe tbody tr th {\n",
       "        vertical-align: top;\n",
       "    }\n",
       "\n",
       "    .dataframe thead th {\n",
       "        text-align: right;\n",
       "    }\n",
       "</style>\n",
       "<table border=\"1\" class=\"dataframe\">\n",
       "  <thead>\n",
       "    <tr style=\"text-align: right;\">\n",
       "      <th></th>\n",
       "      <th>coef</th>\n",
       "      <th>odds ratio</th>\n",
       "      <th>name</th>\n",
       "    </tr>\n",
       "  </thead>\n",
       "  <tbody>\n",
       "    <tr>\n",
       "      <th>0</th>\n",
       "      <td>-12.166085</td>\n",
       "      <td>0.000005</td>\n",
       "      <td>Intercept</td>\n",
       "    </tr>\n",
       "    <tr>\n",
       "      <th>1</th>\n",
       "      <td>2.821674</td>\n",
       "      <td>16.804960</td>\n",
       "      <td>wage</td>\n",
       "    </tr>\n",
       "  </tbody>\n",
       "</table>\n",
       "</div>"
      ],
      "text/plain": [
       "        coef  odds ratio       name\n",
       "0 -12.166085    0.000005  Intercept\n",
       "1   2.821674   16.804960       wage"
      ]
     },
     "execution_count": 15,
     "metadata": {},
     "output_type": "execute_result"
    }
   ],
   "source": [
    "coefs = pd.DataFrame({\n",
    "    'coef': results.params.values,\n",
    "    'odds ratio': np.exp(results.params.values),\n",
    "    'name': results.params.index\n",
    "})\n",
    "coefs"
   ]
  },
  {
   "cell_type": "markdown",
   "id": "158fa426",
   "metadata": {},
   "source": [
    "## After Log Wage"
   ]
  },
  {
   "cell_type": "code",
   "execution_count": 16,
   "id": "154e9132",
   "metadata": {},
   "outputs": [
    {
     "name": "stdout",
     "output_type": "stream",
     "text": [
      "Optimization terminated successfully.\n",
      "         Current function value: 0.540041\n",
      "         Iterations 6\n"
     ]
    },
    {
     "data": {
      "text/html": [
       "<table class=\"simpletable\">\n",
       "<caption>Logit Regression Results</caption>\n",
       "<tr>\n",
       "  <th>Dep. Variable:</th>      <td>health_ins</td>    <th>  No. Observations:  </th>   <td>  3000</td>  \n",
       "</tr>\n",
       "<tr>\n",
       "  <th>Model:</th>                 <td>Logit</td>      <th>  Df Residuals:      </th>   <td>  2998</td>  \n",
       "</tr>\n",
       "<tr>\n",
       "  <th>Method:</th>                 <td>MLE</td>       <th>  Df Model:          </th>   <td>     1</td>  \n",
       "</tr>\n",
       "<tr>\n",
       "  <th>Date:</th>            <td>Mon, 16 May 2022</td> <th>  Pseudo R-squ.:     </th>   <td>0.1227</td>  \n",
       "</tr>\n",
       "<tr>\n",
       "  <th>Time:</th>                <td>23:44:58</td>     <th>  Log-Likelihood:    </th>  <td> -1620.1</td> \n",
       "</tr>\n",
       "<tr>\n",
       "  <th>converged:</th>             <td>True</td>       <th>  LL-Null:           </th>  <td> -1846.8</td> \n",
       "</tr>\n",
       "<tr>\n",
       "  <th>Covariance Type:</th>     <td>nonrobust</td>    <th>  LLR p-value:       </th> <td>1.386e-100</td>\n",
       "</tr>\n",
       "</table>\n",
       "<table class=\"simpletable\">\n",
       "<tr>\n",
       "      <td></td>         <th>coef</th>     <th>std err</th>      <th>z</th>      <th>P>|z|</th>  <th>[0.025</th>    <th>0.975]</th>  \n",
       "</tr>\n",
       "<tr>\n",
       "  <th>Intercept</th> <td>  -12.1661</td> <td>    0.701</td> <td>  -17.347</td> <td> 0.000</td> <td>  -13.541</td> <td>  -10.791</td>\n",
       "</tr>\n",
       "<tr>\n",
       "  <th>wage</th>      <td>    2.8217</td> <td>    0.153</td> <td>   18.413</td> <td> 0.000</td> <td>    2.521</td> <td>    3.122</td>\n",
       "</tr>\n",
       "</table>"
      ],
      "text/plain": [
       "<class 'statsmodels.iolib.summary.Summary'>\n",
       "\"\"\"\n",
       "                           Logit Regression Results                           \n",
       "==============================================================================\n",
       "Dep. Variable:             health_ins   No. Observations:                 3000\n",
       "Model:                          Logit   Df Residuals:                     2998\n",
       "Method:                           MLE   Df Model:                            1\n",
       "Date:                Mon, 16 May 2022   Pseudo R-squ.:                  0.1227\n",
       "Time:                        23:44:58   Log-Likelihood:                -1620.1\n",
       "converged:                       True   LL-Null:                       -1846.8\n",
       "Covariance Type:            nonrobust   LLR p-value:                1.386e-100\n",
       "==============================================================================\n",
       "                 coef    std err          z      P>|z|      [0.025      0.975]\n",
       "------------------------------------------------------------------------------\n",
       "Intercept    -12.1661      0.701    -17.347      0.000     -13.541     -10.791\n",
       "wage           2.8217      0.153     18.413      0.000       2.521       3.122\n",
       "==============================================================================\n",
       "\"\"\""
      ]
     },
     "execution_count": 16,
     "metadata": {},
     "output_type": "execute_result"
    }
   ],
   "source": [
    "model = smf.logit(\"health_ins ~ wage\", data=log)\n",
    "results = model.fit()\n",
    "results.summary()"
   ]
  },
  {
   "cell_type": "code",
   "execution_count": 17,
   "id": "6c6deaaf",
   "metadata": {},
   "outputs": [
    {
     "data": {
      "text/html": [
       "<div>\n",
       "<style scoped>\n",
       "    .dataframe tbody tr th:only-of-type {\n",
       "        vertical-align: middle;\n",
       "    }\n",
       "\n",
       "    .dataframe tbody tr th {\n",
       "        vertical-align: top;\n",
       "    }\n",
       "\n",
       "    .dataframe thead th {\n",
       "        text-align: right;\n",
       "    }\n",
       "</style>\n",
       "<table border=\"1\" class=\"dataframe\">\n",
       "  <thead>\n",
       "    <tr style=\"text-align: right;\">\n",
       "      <th></th>\n",
       "      <th>coef</th>\n",
       "      <th>odds ratio</th>\n",
       "      <th>name</th>\n",
       "    </tr>\n",
       "  </thead>\n",
       "  <tbody>\n",
       "    <tr>\n",
       "      <th>0</th>\n",
       "      <td>-12.166085</td>\n",
       "      <td>0.000005</td>\n",
       "      <td>Intercept</td>\n",
       "    </tr>\n",
       "    <tr>\n",
       "      <th>1</th>\n",
       "      <td>2.821674</td>\n",
       "      <td>16.804960</td>\n",
       "      <td>wage</td>\n",
       "    </tr>\n",
       "  </tbody>\n",
       "</table>\n",
       "</div>"
      ],
      "text/plain": [
       "        coef  odds ratio       name\n",
       "0 -12.166085    0.000005  Intercept\n",
       "1   2.821674   16.804960       wage"
      ]
     },
     "execution_count": 17,
     "metadata": {},
     "output_type": "execute_result"
    }
   ],
   "source": [
    "coefs = pd.DataFrame({\n",
    "    'coef': results.params.values,\n",
    "    'odds ratio': np.exp(results.params.values),\n",
    "    'name': results.params.index\n",
    "})\n",
    "coefs"
   ]
  },
  {
   "cell_type": "code",
   "execution_count": 18,
   "id": "73943e1f",
   "metadata": {},
   "outputs": [
    {
     "name": "stdout",
     "output_type": "stream",
     "text": [
      "      health_ins      wage\n",
      "0              0  4.318061\n",
      "1              0  4.255272\n",
      "2              1  4.875060\n",
      "3              1  5.041391\n",
      "4              1  4.318061\n",
      "...          ...       ...\n",
      "2995           1  5.041391\n",
      "2996           0  4.602055\n",
      "2997           0  4.193118\n",
      "2998           1  4.477121\n",
      "2999           1  4.505151\n",
      "\n",
      "[3000 rows x 2 columns]\n"
     ]
    }
   ],
   "source": [
    "print(log)"
   ]
  },
  {
   "cell_type": "markdown",
   "id": "d81a0515",
   "metadata": {},
   "source": [
    "# Outcomes of Equations"
   ]
  },
  {
   "cell_type": "code",
   "execution_count": 19,
   "id": "09528dba",
   "metadata": {},
   "outputs": [
    {
     "name": "stdout",
     "output_type": "stream",
     "text": [
      "No 293\n",
      "Yes 1947\n",
      "False Positive 624\n",
      "False Negative 136\n"
     ]
    }
   ],
   "source": [
    "No = 0\n",
    "Yes = 0\n",
    "fp = 0\n",
    "fn = 0\n",
    "for a,b in log.itertuples(index=False):\n",
    "    eq = ((math.e**(-12.166085+2.821674*b))/(1+(math.e**(-12.166085+2.821674*b))))    \n",
    "    if eq < .5 and a == 0:\n",
    "        No = No + 1\n",
    "    if eq > .5 and a == 1:\n",
    "        Yes = Yes + 1\n",
    "    if eq < .5 and a == 1:\n",
    "        fn = fn + 1\n",
    "    if eq > .5 and a == 0:\n",
    "        fp = fp + 1\n",
    "print(\"No\", No)\n",
    "print(\"Yes\", Yes)\n",
    "print(\"False Positive\", fp)\n",
    "print(\"False Negative\", fn)"
   ]
  },
  {
   "cell_type": "code",
   "execution_count": null,
   "id": "2a63110b",
   "metadata": {},
   "outputs": [],
   "source": []
  },
  {
   "cell_type": "code",
   "execution_count": null,
   "id": "9b3705f5",
   "metadata": {},
   "outputs": [],
   "source": []
  },
  {
   "cell_type": "code",
   "execution_count": null,
   "id": "c90ae8a9",
   "metadata": {},
   "outputs": [],
   "source": []
  }
 ],
 "metadata": {
  "kernelspec": {
   "display_name": "Python 3",
   "language": "python",
   "name": "python3"
  },
  "language_info": {
   "codemirror_mode": {
    "name": "ipython",
    "version": 3
   },
   "file_extension": ".py",
   "mimetype": "text/x-python",
   "name": "python",
   "nbconvert_exporter": "python",
   "pygments_lexer": "ipython3",
   "version": "3.8.8"
  }
 },
 "nbformat": 4,
 "nbformat_minor": 5
}

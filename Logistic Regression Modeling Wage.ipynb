{
 "cells": [
  {
   "cell_type": "code",
   "execution_count": 2,
   "id": "c970401e",
   "metadata": {},
   "outputs": [
    {
     "data": {
      "text/html": [
       "<div>\n",
       "<style scoped>\n",
       "    .dataframe tbody tr th:only-of-type {\n",
       "        vertical-align: middle;\n",
       "    }\n",
       "\n",
       "    .dataframe tbody tr th {\n",
       "        vertical-align: top;\n",
       "    }\n",
       "\n",
       "    .dataframe thead th {\n",
       "        text-align: right;\n",
       "    }\n",
       "</style>\n",
       "<table border=\"1\" class=\"dataframe\">\n",
       "  <thead>\n",
       "    <tr style=\"text-align: right;\">\n",
       "      <th></th>\n",
       "      <th>maritl</th>\n",
       "      <th>race</th>\n",
       "      <th>education</th>\n",
       "      <th>jobclass</th>\n",
       "      <th>health</th>\n",
       "      <th>health_ins</th>\n",
       "      <th>wage</th>\n",
       "    </tr>\n",
       "  </thead>\n",
       "  <tbody>\n",
       "    <tr>\n",
       "      <th>0</th>\n",
       "      <td>Never Married</td>\n",
       "      <td>White</td>\n",
       "      <td>&lt; HS Grad</td>\n",
       "      <td>Industrial</td>\n",
       "      <td>Good</td>\n",
       "      <td>N</td>\n",
       "      <td>75.043</td>\n",
       "    </tr>\n",
       "    <tr>\n",
       "      <th>1</th>\n",
       "      <td>Never Married</td>\n",
       "      <td>White</td>\n",
       "      <td>College Grad</td>\n",
       "      <td>Information</td>\n",
       "      <td>Very Good</td>\n",
       "      <td>N</td>\n",
       "      <td>70.476</td>\n",
       "    </tr>\n",
       "    <tr>\n",
       "      <th>2</th>\n",
       "      <td>Married</td>\n",
       "      <td>White</td>\n",
       "      <td>Some College</td>\n",
       "      <td>Industrial</td>\n",
       "      <td>Good</td>\n",
       "      <td>Y</td>\n",
       "      <td>130.982</td>\n",
       "    </tr>\n",
       "    <tr>\n",
       "      <th>3</th>\n",
       "      <td>Married</td>\n",
       "      <td>Asian</td>\n",
       "      <td>College Grad</td>\n",
       "      <td>Information</td>\n",
       "      <td>Very Good</td>\n",
       "      <td>Y</td>\n",
       "      <td>154.685</td>\n",
       "    </tr>\n",
       "    <tr>\n",
       "      <th>4</th>\n",
       "      <td>Divorced</td>\n",
       "      <td>White</td>\n",
       "      <td>HS Grad</td>\n",
       "      <td>Information</td>\n",
       "      <td>Good</td>\n",
       "      <td>Y</td>\n",
       "      <td>75.043</td>\n",
       "    </tr>\n",
       "  </tbody>\n",
       "</table>\n",
       "</div>"
      ],
      "text/plain": [
       "          maritl   race     education     jobclass     health health_ins  \\\n",
       "0  Never Married  White     < HS Grad   Industrial       Good          N   \n",
       "1  Never Married  White  College Grad  Information  Very Good          N   \n",
       "2        Married  White  Some College   Industrial       Good          Y   \n",
       "3        Married  Asian  College Grad  Information  Very Good          Y   \n",
       "4       Divorced  White       HS Grad  Information       Good          Y   \n",
       "\n",
       "      wage  \n",
       "0   75.043  \n",
       "1   70.476  \n",
       "2  130.982  \n",
       "3  154.685  \n",
       "4   75.043  "
      ]
     },
     "execution_count": 2,
     "metadata": {},
     "output_type": "execute_result"
    }
   ],
   "source": [
    "import pandas as pd\n",
    "import numpy as np\n",
    "import seaborn as sns\n",
    "import matplotlib.pyplot as plt\n",
    "import math\n",
    "import statsmodels.formula.api as smf\n",
    "data = pd.read_csv(\"Wage.csv\")\n",
    "data.drop(['age','sex', 'region', 'year','logwage'], axis='columns', inplace=True)\n",
    "data.head()"
   ]
  },
  {
   "cell_type": "code",
   "execution_count": 3,
   "id": "d387d15a",
   "metadata": {},
   "outputs": [],
   "source": [
    "rep = data.replace('N',0)\n",
    "log = rep.replace('Y',1)"
   ]
  },
  {
   "cell_type": "code",
   "execution_count": 4,
   "id": "83a4dfa3",
   "metadata": {
    "scrolled": true
   },
   "outputs": [],
   "source": [
    "log.wage = np.log(log.wage)"
   ]
  },
  {
   "cell_type": "markdown",
   "id": "ab780790",
   "metadata": {},
   "source": [
    "## Before Log Wage"
   ]
  },
  {
   "cell_type": "code",
   "execution_count": 8,
   "id": "958cb559",
   "metadata": {},
   "outputs": [
    {
     "name": "stdout",
     "output_type": "stream",
     "text": [
      "Optimization terminated successfully.\n",
      "         Current function value: 0.552618\n",
      "         Iterations 6\n"
     ]
    },
    {
     "data": {
      "text/html": [
       "<table class=\"simpletable\">\n",
       "<caption>Logit Regression Results</caption>\n",
       "<tr>\n",
       "  <th>Dep. Variable:</th>      <td>health_ins</td>    <th>  No. Observations:  </th>  <td>  3000</td>  \n",
       "</tr>\n",
       "<tr>\n",
       "  <th>Model:</th>                 <td>Logit</td>      <th>  Df Residuals:      </th>  <td>  2998</td>  \n",
       "</tr>\n",
       "<tr>\n",
       "  <th>Method:</th>                 <td>MLE</td>       <th>  Df Model:          </th>  <td>     1</td>  \n",
       "</tr>\n",
       "<tr>\n",
       "  <th>Date:</th>            <td>Wed, 03 Nov 2021</td> <th>  Pseudo R-squ.:     </th>  <td>0.1023</td>  \n",
       "</tr>\n",
       "<tr>\n",
       "  <th>Time:</th>                <td>09:16:45</td>     <th>  Log-Likelihood:    </th> <td> -1657.9</td> \n",
       "</tr>\n",
       "<tr>\n",
       "  <th>converged:</th>             <td>True</td>       <th>  LL-Null:           </th> <td> -1846.8</td> \n",
       "</tr>\n",
       "<tr>\n",
       "  <th>Covariance Type:</th>     <td>nonrobust</td>    <th>  LLR p-value:       </th> <td>3.698e-84</td>\n",
       "</tr>\n",
       "</table>\n",
       "<table class=\"simpletable\">\n",
       "<tr>\n",
       "      <td></td>         <th>coef</th>     <th>std err</th>      <th>z</th>      <th>P>|z|</th>  <th>[0.025</th>    <th>0.975]</th>  \n",
       "</tr>\n",
       "<tr>\n",
       "  <th>Intercept</th> <td>   -1.8389</td> <td>    0.158</td> <td>  -11.606</td> <td> 0.000</td> <td>   -2.149</td> <td>   -1.528</td>\n",
       "</tr>\n",
       "<tr>\n",
       "  <th>wage</th>      <td>    0.0256</td> <td>    0.002</td> <td>   16.519</td> <td> 0.000</td> <td>    0.023</td> <td>    0.029</td>\n",
       "</tr>\n",
       "</table>"
      ],
      "text/plain": [
       "<class 'statsmodels.iolib.summary.Summary'>\n",
       "\"\"\"\n",
       "                           Logit Regression Results                           \n",
       "==============================================================================\n",
       "Dep. Variable:             health_ins   No. Observations:                 3000\n",
       "Model:                          Logit   Df Residuals:                     2998\n",
       "Method:                           MLE   Df Model:                            1\n",
       "Date:                Wed, 03 Nov 2021   Pseudo R-squ.:                  0.1023\n",
       "Time:                        09:16:45   Log-Likelihood:                -1657.9\n",
       "converged:                       True   LL-Null:                       -1846.8\n",
       "Covariance Type:            nonrobust   LLR p-value:                 3.698e-84\n",
       "==============================================================================\n",
       "                 coef    std err          z      P>|z|      [0.025      0.975]\n",
       "------------------------------------------------------------------------------\n",
       "Intercept     -1.8389      0.158    -11.606      0.000      -2.149      -1.528\n",
       "wage           0.0256      0.002     16.519      0.000       0.023       0.029\n",
       "==============================================================================\n",
       "\"\"\""
      ]
     },
     "execution_count": 8,
     "metadata": {},
     "output_type": "execute_result"
    }
   ],
   "source": [
    "model = smf.logit(\"health_ins ~ wage\", data=log)\n",
    "results = model.fit()\n",
    "results.summary()"
   ]
  },
  {
   "cell_type": "code",
   "execution_count": 9,
   "id": "9b1c5e89",
   "metadata": {
    "scrolled": false
   },
   "outputs": [
    {
     "data": {
      "text/html": [
       "<div>\n",
       "<style scoped>\n",
       "    .dataframe tbody tr th:only-of-type {\n",
       "        vertical-align: middle;\n",
       "    }\n",
       "\n",
       "    .dataframe tbody tr th {\n",
       "        vertical-align: top;\n",
       "    }\n",
       "\n",
       "    .dataframe thead th {\n",
       "        text-align: right;\n",
       "    }\n",
       "</style>\n",
       "<table border=\"1\" class=\"dataframe\">\n",
       "  <thead>\n",
       "    <tr style=\"text-align: right;\">\n",
       "      <th></th>\n",
       "      <th>coef</th>\n",
       "      <th>odds ratio</th>\n",
       "      <th>name</th>\n",
       "    </tr>\n",
       "  </thead>\n",
       "  <tbody>\n",
       "    <tr>\n",
       "      <th>0</th>\n",
       "      <td>-1.838932</td>\n",
       "      <td>0.158987</td>\n",
       "      <td>Intercept</td>\n",
       "    </tr>\n",
       "    <tr>\n",
       "      <th>1</th>\n",
       "      <td>0.025554</td>\n",
       "      <td>1.025883</td>\n",
       "      <td>wage</td>\n",
       "    </tr>\n",
       "  </tbody>\n",
       "</table>\n",
       "</div>"
      ],
      "text/plain": [
       "       coef  odds ratio       name\n",
       "0 -1.838932    0.158987  Intercept\n",
       "1  0.025554    1.025883       wage"
      ]
     },
     "execution_count": 9,
     "metadata": {},
     "output_type": "execute_result"
    }
   ],
   "source": [
    "coefs = pd.DataFrame({\n",
    "    'coef': results.params.values,\n",
    "    'odds ratio': np.exp(results.params.values),\n",
    "    'name': results.params.index\n",
    "})\n",
    "coefs"
   ]
  },
  {
   "cell_type": "markdown",
   "id": "158fa426",
   "metadata": {},
   "source": [
    "## After Log Wage"
   ]
  },
  {
   "cell_type": "code",
   "execution_count": 15,
   "id": "154e9132",
   "metadata": {},
   "outputs": [
    {
     "name": "stdout",
     "output_type": "stream",
     "text": [
      "Optimization terminated successfully.\n",
      "         Current function value: 0.540041\n",
      "         Iterations 6\n"
     ]
    },
    {
     "data": {
      "text/html": [
       "<table class=\"simpletable\">\n",
       "<caption>Logit Regression Results</caption>\n",
       "<tr>\n",
       "  <th>Dep. Variable:</th>      <td>health_ins</td>    <th>  No. Observations:  </th>   <td>  3000</td>  \n",
       "</tr>\n",
       "<tr>\n",
       "  <th>Model:</th>                 <td>Logit</td>      <th>  Df Residuals:      </th>   <td>  2998</td>  \n",
       "</tr>\n",
       "<tr>\n",
       "  <th>Method:</th>                 <td>MLE</td>       <th>  Df Model:          </th>   <td>     1</td>  \n",
       "</tr>\n",
       "<tr>\n",
       "  <th>Date:</th>            <td>Wed, 03 Nov 2021</td> <th>  Pseudo R-squ.:     </th>   <td>0.1227</td>  \n",
       "</tr>\n",
       "<tr>\n",
       "  <th>Time:</th>                <td>09:49:48</td>     <th>  Log-Likelihood:    </th>  <td> -1620.1</td> \n",
       "</tr>\n",
       "<tr>\n",
       "  <th>converged:</th>             <td>True</td>       <th>  LL-Null:           </th>  <td> -1846.8</td> \n",
       "</tr>\n",
       "<tr>\n",
       "  <th>Covariance Type:</th>     <td>nonrobust</td>    <th>  LLR p-value:       </th> <td>1.386e-100</td>\n",
       "</tr>\n",
       "</table>\n",
       "<table class=\"simpletable\">\n",
       "<tr>\n",
       "      <td></td>         <th>coef</th>     <th>std err</th>      <th>z</th>      <th>P>|z|</th>  <th>[0.025</th>    <th>0.975]</th>  \n",
       "</tr>\n",
       "<tr>\n",
       "  <th>Intercept</th> <td>  -12.1661</td> <td>    0.701</td> <td>  -17.347</td> <td> 0.000</td> <td>  -13.541</td> <td>  -10.791</td>\n",
       "</tr>\n",
       "<tr>\n",
       "  <th>wage</th>      <td>    2.8217</td> <td>    0.153</td> <td>   18.413</td> <td> 0.000</td> <td>    2.521</td> <td>    3.122</td>\n",
       "</tr>\n",
       "</table>"
      ],
      "text/plain": [
       "<class 'statsmodels.iolib.summary.Summary'>\n",
       "\"\"\"\n",
       "                           Logit Regression Results                           \n",
       "==============================================================================\n",
       "Dep. Variable:             health_ins   No. Observations:                 3000\n",
       "Model:                          Logit   Df Residuals:                     2998\n",
       "Method:                           MLE   Df Model:                            1\n",
       "Date:                Wed, 03 Nov 2021   Pseudo R-squ.:                  0.1227\n",
       "Time:                        09:49:48   Log-Likelihood:                -1620.1\n",
       "converged:                       True   LL-Null:                       -1846.8\n",
       "Covariance Type:            nonrobust   LLR p-value:                1.386e-100\n",
       "==============================================================================\n",
       "                 coef    std err          z      P>|z|      [0.025      0.975]\n",
       "------------------------------------------------------------------------------\n",
       "Intercept    -12.1661      0.701    -17.347      0.000     -13.541     -10.791\n",
       "wage           2.8217      0.153     18.413      0.000       2.521       3.122\n",
       "==============================================================================\n",
       "\"\"\""
      ]
     },
     "execution_count": 15,
     "metadata": {},
     "output_type": "execute_result"
    }
   ],
   "source": [
    "model = smf.logit(\"health_ins ~ wage\", data=log)\n",
    "results = model.fit()\n",
    "results.summary()"
   ]
  },
  {
   "cell_type": "code",
   "execution_count": 16,
   "id": "6c6deaaf",
   "metadata": {},
   "outputs": [
    {
     "data": {
      "text/html": [
       "<div>\n",
       "<style scoped>\n",
       "    .dataframe tbody tr th:only-of-type {\n",
       "        vertical-align: middle;\n",
       "    }\n",
       "\n",
       "    .dataframe tbody tr th {\n",
       "        vertical-align: top;\n",
       "    }\n",
       "\n",
       "    .dataframe thead th {\n",
       "        text-align: right;\n",
       "    }\n",
       "</style>\n",
       "<table border=\"1\" class=\"dataframe\">\n",
       "  <thead>\n",
       "    <tr style=\"text-align: right;\">\n",
       "      <th></th>\n",
       "      <th>coef</th>\n",
       "      <th>odds ratio</th>\n",
       "      <th>name</th>\n",
       "    </tr>\n",
       "  </thead>\n",
       "  <tbody>\n",
       "    <tr>\n",
       "      <th>0</th>\n",
       "      <td>-12.166085</td>\n",
       "      <td>0.000005</td>\n",
       "      <td>Intercept</td>\n",
       "    </tr>\n",
       "    <tr>\n",
       "      <th>1</th>\n",
       "      <td>2.821674</td>\n",
       "      <td>16.804960</td>\n",
       "      <td>wage</td>\n",
       "    </tr>\n",
       "  </tbody>\n",
       "</table>\n",
       "</div>"
      ],
      "text/plain": [
       "        coef  odds ratio       name\n",
       "0 -12.166085    0.000005  Intercept\n",
       "1   2.821674   16.804960       wage"
      ]
     },
     "execution_count": 16,
     "metadata": {},
     "output_type": "execute_result"
    }
   ],
   "source": [
    "coefs = pd.DataFrame({\n",
    "    'coef': results.params.values,\n",
    "    'odds ratio': np.exp(results.params.values),\n",
    "    'name': results.params.index\n",
    "})\n",
    "coefs"
   ]
  },
  {
   "cell_type": "code",
   "execution_count": null,
   "id": "73943e1f",
   "metadata": {},
   "outputs": [],
   "source": []
  }
 ],
 "metadata": {
  "kernelspec": {
   "display_name": "Python 3",
   "language": "python",
   "name": "python3"
  },
  "language_info": {
   "codemirror_mode": {
    "name": "ipython",
    "version": 3
   },
   "file_extension": ".py",
   "mimetype": "text/x-python",
   "name": "python",
   "nbconvert_exporter": "python",
   "pygments_lexer": "ipython3",
   "version": "3.8.8"
  }
 },
 "nbformat": 4,
 "nbformat_minor": 5
}
